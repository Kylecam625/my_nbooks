{
 "cells": [
  {
   "cell_type": "markdown",
   "metadata": {},
   "source": [
    "# Exercise 5-5: Get data from a JSON file"
   ]
  },
  {
   "cell_type": "code",
   "execution_count": 1,
   "metadata": {},
   "outputs": [],
   "source": [
    "import pandas as pd"
   ]
  },
  {
   "cell_type": "code",
   "execution_count": 2,
   "metadata": {},
   "outputs": [
    {
     "data": {
      "text/plain": [
       "('shots.json', <http.client.HTTPMessage at 0x11de81f10>)"
      ]
     },
     "execution_count": 2,
     "metadata": {},
     "output_type": "execute_result"
    }
   ],
   "source": [
    "from urllib import request\n",
    "shots_url = 'https://www.murach.com/python_analysis/shots.json'\n",
    "request.urlretrieve(shots_url, filename='shots.json')"
   ]
  },
  {
   "cell_type": "code",
   "execution_count": 8,
   "metadata": {},
   "outputs": [
    {
     "name": "stdout",
     "output_type": "stream",
     "text": [
      "<class 'pandas.core.frame.DataFrame'>\n",
      "RangeIndex: 1 entries, 0 to 0\n",
      "Data columns (total 32 columns):\n",
      " #   Column                     Non-Null Count  Dtype \n",
      "---  ------                     --------------  ----- \n",
      " 0   resource                   1 non-null      object\n",
      " 1   resultSets                 1 non-null      object\n",
      " 2   parameters.LeagueID        1 non-null      object\n",
      " 3   parameters.Season          0 non-null      object\n",
      " 4   parameters.SeasonType      1 non-null      object\n",
      " 5   parameters.TeamID          1 non-null      int64 \n",
      " 6   parameters.PlayerID        1 non-null      int64 \n",
      " 7   parameters.GameID          0 non-null      object\n",
      " 8   parameters.Outcome         0 non-null      object\n",
      " 9   parameters.Location        0 non-null      object\n",
      " 10  parameters.Month           1 non-null      int64 \n",
      " 11  parameters.SeasonSegment   0 non-null      object\n",
      " 12  parameters.DateFrom        0 non-null      object\n",
      " 13  parameters.DateTo          0 non-null      object\n",
      " 14  parameters.OpponentTeamID  1 non-null      int64 \n",
      " 15  parameters.VsConference    0 non-null      object\n",
      " 16  parameters.VsDivision      0 non-null      object\n",
      " 17  parameters.Position        0 non-null      object\n",
      " 18  parameters.RookieYear      0 non-null      object\n",
      " 19  parameters.GameSegment     0 non-null      object\n",
      " 20  parameters.Period          1 non-null      int64 \n",
      " 21  parameters.LastNGames      1 non-null      int64 \n",
      " 22  parameters.ClutchTime      0 non-null      object\n",
      " 23  parameters.AheadBehind     0 non-null      object\n",
      " 24  parameters.PointDiff       0 non-null      object\n",
      " 25  parameters.RangeType       0 non-null      object\n",
      " 26  parameters.StartPeriod     0 non-null      object\n",
      " 27  parameters.EndPeriod       0 non-null      object\n",
      " 28  parameters.StartRange      0 non-null      object\n",
      " 29  parameters.EndRange        0 non-null      object\n",
      " 30  parameters.ContextFilter   1 non-null      object\n",
      " 31  parameters.ContextMeasure  1 non-null      object\n",
      "dtypes: int64(6), object(26)\n",
      "memory usage: 388.0+ bytes\n",
      "          resource                                         resultSets  \\\n",
      "0  shotchartdetail  [{'name': 'Shot_Chart_Detail', 'headers': ['GR...   \n",
      "\n",
      "  parameters.LeagueID parameters.Season parameters.SeasonType  \\\n",
      "0                  00              None        Regular Season   \n",
      "\n",
      "   parameters.TeamID  parameters.PlayerID parameters.GameID  \\\n",
      "0         1610612744               201939              None   \n",
      "\n",
      "  parameters.Outcome parameters.Location  ...  parameters.ClutchTime  \\\n",
      "0               None                None  ...                   None   \n",
      "\n",
      "  parameters.AheadBehind parameters.PointDiff parameters.RangeType  \\\n",
      "0                   None                 None                 None   \n",
      "\n",
      "   parameters.StartPeriod parameters.EndPeriod parameters.StartRange  \\\n",
      "0                    None                 None                  None   \n",
      "\n",
      "  parameters.EndRange parameters.ContextFilter parameters.ContextMeasure  \n",
      "0                None                                                FGA  \n",
      "\n",
      "[1 rows x 32 columns]\n",
      "       parameters.TeamID  parameters.PlayerID  parameters.Month  \\\n",
      "count       1.000000e+00                  1.0               1.0   \n",
      "mean        1.610613e+09             201939.0               0.0   \n",
      "std                  NaN                  NaN               NaN   \n",
      "min         1.610613e+09             201939.0               0.0   \n",
      "25%         1.610613e+09             201939.0               0.0   \n",
      "50%         1.610613e+09             201939.0               0.0   \n",
      "75%         1.610613e+09             201939.0               0.0   \n",
      "max         1.610613e+09             201939.0               0.0   \n",
      "\n",
      "       parameters.OpponentTeamID  parameters.Period  parameters.LastNGames  \n",
      "count                        1.0                1.0                    1.0  \n",
      "mean                         0.0                0.0                    0.0  \n",
      "std                          NaN                NaN                    NaN  \n",
      "min                          0.0                0.0                    0.0  \n",
      "25%                          0.0                0.0                    0.0  \n",
      "50%                          0.0                0.0                    0.0  \n",
      "75%                          0.0                0.0                    0.0  \n",
      "max                          0.0                0.0                    0.0  \n"
     ]
    }
   ],
   "source": [
    "# add code to convert the json data into a dictionary. Then use the dictionary to build the DataFrame\n",
    "with open('shots.json', 'r') as file:\n",
    "    json_data = json.load(file)\n",
    "\n",
    "df_shots = pd.json_normalize(json_data)\n",
    "\n",
    "df_shots.info()\n",
    "\n",
    "print(df_shots.head())\n",
    "\n",
    "print(df_shots.describe())"
   ]
  }
 ],
 "metadata": {
  "kernelspec": {
   "display_name": "Python 3 (ipykernel)",
   "language": "python",
   "name": "python3"
  },
  "language_info": {
   "codemirror_mode": {
    "name": "ipython",
    "version": 3
   },
   "file_extension": ".py",
   "mimetype": "text/x-python",
   "name": "python",
   "nbconvert_exporter": "python",
   "pygments_lexer": "ipython3",
   "version": "3.11.7"
  }
 },
 "nbformat": 4,
 "nbformat_minor": 4
}
