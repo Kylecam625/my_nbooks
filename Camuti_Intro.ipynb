{
 "cells": [
  {
   "cell_type": "markdown",
   "id": "5e8db22e-e5ab-43bd-974c-2f4649ac8bc7",
   "metadata": {},
   "source": [
    "<h1>Week 1!</h1>"
   ]
  },
  {
   "cell_type": "markdown",
   "id": "bc268213-b502-4307-8fb0-3e5ffee72fc4",
   "metadata": {},
   "source": [
    "<h2>Kyle Camuti</h2>"
   ]
  },
  {
   "cell_type": "code",
   "execution_count": 9,
   "id": "f4264ee9-400a-463f-a8da-739d73428e7d",
   "metadata": {},
   "outputs": [],
   "source": [
    "import random\n",
    "\n",
    "nums = [random.randint(30,100) for i in range(40)]\n"
   ]
  },
  {
   "cell_type": "code",
   "execution_count": 14,
   "id": "6fbc2d12-7323-4298-946e-0eec801fc040",
   "metadata": {},
   "outputs": [
    {
     "name": "stdout",
     "output_type": "stream",
     "text": [
      "31 34 34 38 40 42 43 44 44 45 45 46 47 51 56 57 60 60 62 62 66 67 68 73 74 76 77 77 80 82 89 90 92 92 94 95 96 97 99 99 "
     ]
    }
   ],
   "source": [
    "nums.sort()\n",
    "\n",
    "for num in nums:\n",
    "    print(num, end=' ')\n"
   ]
  },
  {
   "cell_type": "markdown",
   "id": "52f6c13a-272d-4e32-97c0-0cd7a3a33bfa",
   "metadata": {},
   "source": [
    "<h2>The Sample Mean</h2> \n",
    "- Add up all the numbers in the sample set.\n",
    "- Count the numbers in the sample set.\n",
    "- Divide the sum of the sample set by the number of items in the set.\n",
    "- The result is the sample mean.\n"
   ]
  },
  {
   "cell_type": "markdown",
   "id": "68309b60-fa3d-47e8-96dc-61a723f83b95",
   "metadata": {},
   "source": [
    "$$\n",
    "\\bar{x} = \\frac{1}{n} \\sum_{i=1}^{n} x_i\n",
    "$$\n"
   ]
  },
  {
   "cell_type": "code",
   "execution_count": 17,
   "id": "8f8cc52e-5006-4c5d-972e-1d1f3e739cf8",
   "metadata": {},
   "outputs": [
    {
     "name": "stdout",
     "output_type": "stream",
     "text": [
      "The sample mean is 65.60\n"
     ]
    }
   ],
   "source": [
    "sample_mean = sum(nums) / len(nums)\n",
    "print(f\"The sample mean is {sample_mean:.2f}\")"
   ]
  },
  {
   "cell_type": "markdown",
   "id": "6eebbb6a-c4a6-4865-bfe5-230134369253",
   "metadata": {},
   "source": [
    "<h2>The Median</h2>\n",
    "\n",
    "[Definition of statistical median](https://en.wikipedia.org/wiki/Median)\n"
   ]
  },
  {
   "cell_type": "code",
   "execution_count": 18,
   "id": "539aebe2-6f80-4c18-a0ab-bc29b3f0964e",
   "metadata": {},
   "outputs": [
    {
     "name": "stdout",
     "output_type": "stream",
     "text": [
      "The median is 64.0\n"
     ]
    }
   ],
   "source": [
    "# For an even number of values, the median is calculated by sorting the list,\n",
    "# finding the two middle numbers, and then finding the average of these two numbers.\n",
    "\n",
    "middle = len(nums) // 2\n",
    "\n",
    "if len(nums) % 2 == 0: \n",
    "    median = (nums[middle- 1] + nums[middle]) / 2.0\n",
    "else:\n",
    "    median = nums[middle]\n",
    "    \n",
    "print(f\"The median is {median:.1f}\")\n"
   ]
  },
  {
   "cell_type": "code",
   "execution_count": null,
   "id": "c509bf29-6e84-4cb6-9e2e-e8a296296560",
   "metadata": {},
   "outputs": [],
   "source": []
  }
 ],
 "metadata": {
  "kernelspec": {
   "display_name": "Python 3 (ipykernel)",
   "language": "python",
   "name": "python3"
  },
  "language_info": {
   "codemirror_mode": {
    "name": "ipython",
    "version": 3
   },
   "file_extension": ".py",
   "mimetype": "text/x-python",
   "name": "python",
   "nbconvert_exporter": "python",
   "pygments_lexer": "ipython3",
   "version": "3.11.7"
  }
 },
 "nbformat": 4,
 "nbformat_minor": 5
}
