{
 "cells": [
  {
   "cell_type": "markdown",
   "metadata": {},
   "source": [
    "# Exercise 6-2: Clean the Cars data"
   ]
  },
  {
   "cell_type": "markdown",
   "metadata": {},
   "source": [
    "## Read the data"
   ]
  },
  {
   "cell_type": "code",
   "execution_count": 1,
   "metadata": {},
   "outputs": [],
   "source": [
    "import pandas as pd"
   ]
  },
  {
   "cell_type": "code",
   "execution_count": 2,
   "metadata": {},
   "outputs": [],
   "source": [
    "cars = pd.read_csv('cars.csv')"
   ]
  },
  {
   "cell_type": "code",
   "execution_count": 3,
   "metadata": {},
   "outputs": [
    {
     "name": "stdout",
     "output_type": "stream",
     "text": [
      "   car_ID  symboling                   CarName fueltype aspiration doornumber  \\\n",
      "0       1          3        alfa-romero giulia      gas        std        two   \n",
      "1       2          3       alfa-romero stelvio      gas        std        two   \n",
      "2       3          1  alfa-romero Quadrifoglio      gas        std        two   \n",
      "3       4          2               audi 100 ls      gas        std       four   \n",
      "4       5          2                audi 100ls      gas        std       four   \n",
      "\n",
      "       carbody drivewheel enginelocation  wheelbase  ...  enginesize  \\\n",
      "0  convertible        rwd          front       88.6  ...         130   \n",
      "1  convertible        rwd          front       88.6  ...         130   \n",
      "2    hatchback        rwd          front       94.5  ...         152   \n",
      "3        sedan        fwd          front       99.8  ...         109   \n",
      "4        sedan        4wd          front       99.4  ...         136   \n",
      "\n",
      "   fuelsystem  boreratio  stroke compressionratio horsepower  peakrpm citympg  \\\n",
      "0        mpfi       3.47    2.68              9.0        111     5000      21   \n",
      "1        mpfi       3.47    2.68              9.0        111     5000      21   \n",
      "2        mpfi       2.68    3.47              9.0        154     5000      19   \n",
      "3        mpfi       3.19    3.40             10.0        102     5500      24   \n",
      "4        mpfi       3.19    3.40              8.0        115     5500      18   \n",
      "\n",
      "   highwaympg    price  \n",
      "0          27  13495.0  \n",
      "1          27  16500.0  \n",
      "2          26  16500.0  \n",
      "3          30  13950.0  \n",
      "4          22  17450.0  \n",
      "\n",
      "[5 rows x 26 columns]\n"
     ]
    }
   ],
   "source": [
    "# display the first 5 rows\n",
    "print(cars.head())"
   ]
  },
  {
   "cell_type": "markdown",
   "metadata": {},
   "source": [
    "## Examine the data"
   ]
  },
  {
   "cell_type": "code",
   "execution_count": 4,
   "metadata": {},
   "outputs": [
    {
     "name": "stdout",
     "output_type": "stream",
     "text": [
      "<class 'pandas.core.frame.DataFrame'>\n",
      "RangeIndex: 205 entries, 0 to 204\n",
      "Data columns (total 26 columns):\n",
      " #   Column            Non-Null Count  Dtype  \n",
      "---  ------            --------------  -----  \n",
      " 0   car_ID            205 non-null    int64  \n",
      " 1   symboling         205 non-null    int64  \n",
      " 2   CarName           205 non-null    object \n",
      " 3   fueltype          205 non-null    object \n",
      " 4   aspiration        205 non-null    object \n",
      " 5   doornumber        205 non-null    object \n",
      " 6   carbody           205 non-null    object \n",
      " 7   drivewheel        205 non-null    object \n",
      " 8   enginelocation    205 non-null    object \n",
      " 9   wheelbase         205 non-null    float64\n",
      " 10  carlength         205 non-null    float64\n",
      " 11  carwidth          205 non-null    float64\n",
      " 12  carheight         205 non-null    float64\n",
      " 13  curbweight        205 non-null    int64  \n",
      " 14  enginetype        205 non-null    object \n",
      " 15  cylindernumber    205 non-null    object \n",
      " 16  enginesize        205 non-null    int64  \n",
      " 17  fuelsystem        205 non-null    object \n",
      " 18  boreratio         205 non-null    float64\n",
      " 19  stroke            205 non-null    float64\n",
      " 20  compressionratio  205 non-null    float64\n",
      " 21  horsepower        205 non-null    int64  \n",
      " 22  peakrpm           205 non-null    int64  \n",
      " 23  citympg           205 non-null    int64  \n",
      " 24  highwaympg        205 non-null    int64  \n",
      " 25  price             205 non-null    float64\n",
      "dtypes: float64(8), int64(8), object(10)\n",
      "memory usage: 41.8+ KB\n"
     ]
    }
   ],
   "source": [
    "# info()\n",
    "cars.info()"
   ]
  },
  {
   "cell_type": "code",
   "execution_count": 5,
   "metadata": {},
   "outputs": [
    {
     "name": "stdout",
     "output_type": "stream",
     "text": [
      "fueltype\n",
      "gas       185\n",
      "diesel     20\n",
      "Name: count, dtype: int64\n"
     ]
    }
   ],
   "source": [
    "# value_counts()\n",
    "print(cars['fueltype'].value_counts())"
   ]
  },
  {
   "cell_type": "code",
   "execution_count": 6,
   "metadata": {},
   "outputs": [
    {
     "name": "stdout",
     "output_type": "stream",
     "text": [
      "['alfa-romero giulia' 'alfa-romero stelvio' 'alfa-romero Quadrifoglio'\n",
      " 'audi 100 ls' 'audi 100ls' 'audi fox' 'audi 5000' 'audi 4000'\n",
      " 'audi 5000s (diesel)' 'bmw 320i' 'bmw x1' 'bmw x3' 'bmw z4' 'bmw x4'\n",
      " 'bmw x5' 'chevrolet impala' 'chevrolet monte carlo' 'chevrolet vega 2300'\n",
      " 'dodge rampage' 'dodge challenger se' 'dodge d200' 'dodge monaco (sw)'\n",
      " 'dodge colt hardtop' 'dodge colt (sw)' 'dodge coronet custom'\n",
      " 'dodge dart custom' 'dodge coronet custom (sw)' 'honda civic'\n",
      " 'honda civic cvcc' 'honda accord cvcc' 'honda accord lx'\n",
      " 'honda civic 1500 gl' 'honda accord' 'honda civic 1300' 'honda prelude'\n",
      " 'honda civic (auto)' 'isuzu MU-X' 'isuzu D-Max ' 'isuzu D-Max V-Cross'\n",
      " 'jaguar xj' 'jaguar xf' 'jaguar xk' 'maxda rx3' 'maxda glc deluxe'\n",
      " 'mazda rx2 coupe' 'mazda rx-4' 'mazda glc deluxe' 'mazda 626' 'mazda glc'\n",
      " 'mazda rx-7 gs' 'mazda glc 4' 'mazda glc custom l' 'mazda glc custom'\n",
      " 'buick electra 225 custom' 'buick century luxus (sw)' 'buick century'\n",
      " 'buick skyhawk' 'buick opel isuzu deluxe' 'buick skylark'\n",
      " 'buick century special' 'buick regal sport coupe (turbo)'\n",
      " 'mercury cougar' 'mitsubishi mirage' 'mitsubishi lancer'\n",
      " 'mitsubishi outlander' 'mitsubishi g4' 'mitsubishi mirage g4'\n",
      " 'mitsubishi montero' 'mitsubishi pajero' 'Nissan versa' 'nissan gt-r'\n",
      " 'nissan rogue' 'nissan latio' 'nissan titan' 'nissan leaf' 'nissan juke'\n",
      " 'nissan note' 'nissan clipper' 'nissan nv200' 'nissan dayz' 'nissan fuga'\n",
      " 'nissan otti' 'nissan teana' 'nissan kicks' 'peugeot 504' 'peugeot 304'\n",
      " 'peugeot 504 (sw)' 'peugeot 604sl' 'peugeot 505s turbo diesel'\n",
      " 'plymouth fury iii' 'plymouth cricket' 'plymouth satellite custom (sw)'\n",
      " 'plymouth fury gran sedan' 'plymouth valiant' 'plymouth duster'\n",
      " 'porsche macan' 'porcshce panamera' 'porsche cayenne' 'porsche boxter'\n",
      " 'renault 12tl' 'renault 5 gtl' 'saab 99e' 'saab 99le' 'saab 99gle'\n",
      " 'subaru' 'subaru dl' 'subaru brz' 'subaru baja' 'subaru r1' 'subaru r2'\n",
      " 'subaru trezia' 'subaru tribeca' 'toyota corona mark ii' 'toyota corona'\n",
      " 'toyota corolla 1200' 'toyota corona hardtop' 'toyota corolla 1600 (sw)'\n",
      " 'toyota carina' 'toyota mark ii' 'toyota corolla'\n",
      " 'toyota corolla liftback' 'toyota celica gt liftback'\n",
      " 'toyota corolla tercel' 'toyota corona liftback' 'toyota starlet'\n",
      " 'toyota tercel' 'toyota cressida' 'toyota celica gt' 'toyouta tercel'\n",
      " 'vokswagen rabbit' 'volkswagen 1131 deluxe sedan' 'volkswagen model 111'\n",
      " 'volkswagen type 3' 'volkswagen 411 (sw)' 'volkswagen super beetle'\n",
      " 'volkswagen dasher' 'vw dasher' 'vw rabbit' 'volkswagen rabbit'\n",
      " 'volkswagen rabbit custom' 'volvo 145e (sw)' 'volvo 144ea' 'volvo 244dl'\n",
      " 'volvo 245' 'volvo 264gl' 'volvo diesel' 'volvo 246']\n"
     ]
    }
   ],
   "source": [
    "# unique\n",
    "print(cars['CarName'].unique())"
   ]
  },
  {
   "cell_type": "markdown",
   "metadata": {},
   "source": [
    "## Fix spelling and capitalization problems in the data"
   ]
  },
  {
   "cell_type": "code",
   "execution_count": 7,
   "metadata": {},
   "outputs": [],
   "source": [
    "cars['brand'] = cars.apply(lambda x: x.CarName.split(' ')[0], axis=1)\n",
    "cars['name'] = cars.apply(lambda x: ' '.join(x.CarName.split(' ')[1:]), axis=1)"
   ]
  },
  {
   "cell_type": "code",
   "execution_count": 8,
   "metadata": {},
   "outputs": [
    {
     "name": "stdout",
     "output_type": "stream",
     "text": [
      "['alfa-romero' 'audi' 'bmw' 'chevrolet' 'dodge' 'honda' 'isuzu' 'jaguar'\n",
      " 'maxda' 'mazda' 'buick' 'mercury' 'mitsubishi' 'Nissan' 'nissan'\n",
      " 'peugeot' 'plymouth' 'porsche' 'porcshce' 'renault' 'saab' 'subaru'\n",
      " 'toyota' 'toyouta' 'vokswagen' 'volkswagen' 'vw' 'volvo']\n"
     ]
    }
   ],
   "source": [
    "# display each unique value in the brand column\n",
    "print(cars['brand'].unique())"
   ]
  },
  {
   "cell_type": "code",
   "execution_count": 14,
   "metadata": {},
   "outputs": [],
   "source": [
    "# fix any misspellings or inconsistent capitalization in the brand names\n",
    "replacement_map = {\n",
    "    'toyouta': 'Toyota', 'Toyouta': 'Toyota',\n",
    "    'mercedes': 'Mercedes-Benz', 'mercedes-benz': 'Mercedes-Benz', 'Mercedes-Benz': 'Mercedes-Benz',\n",
    "    'chevroelt': 'Chevrolet', 'chevrolet': 'Chevrolet',\n",
    "    'vokswagen': 'Volkswagen', 'volkswagen': 'Volkswagen', 'vw': 'Volkswagen',\n",
    "    'maxda': 'Mazda', 'mazda': 'Mazda',\n",
    "    'porcshce': 'Porsche', 'porsche': 'Porsche',\n",
    "    'toyota': 'Toyota',\n",
    "    'nissan': 'Nissan',\n",
    "    'honda': 'Honda'\n",
    "}\n",
    "cars['brand'] = cars['brand'].replace(replacement_map)\n",
    "cars['brand'] = cars['brand'].str.title()"
   ]
  },
  {
   "cell_type": "code",
   "execution_count": 15,
   "metadata": {},
   "outputs": [],
   "source": [
    "# store the fixed data in the CarName column\n",
    "cars['CarName'] = cars['brand'] + ' ' + cars['name']"
   ]
  },
  {
   "cell_type": "markdown",
   "metadata": {},
   "source": [
    "## Rename and drop columns"
   ]
  },
  {
   "cell_type": "code",
   "execution_count": 16,
   "metadata": {},
   "outputs": [
    {
     "name": "stdout",
     "output_type": "stream",
     "text": [
      "                  brandname fueltype aspiration doornumber      carbody  \\\n",
      "0        Alfa-Romero giulia      gas        std        two  convertible   \n",
      "1       Alfa-Romero stelvio      gas        std        two  convertible   \n",
      "2  Alfa-Romero Quadrifoglio      gas        std        two    hatchback   \n",
      "3               Audi 100 ls      gas        std       four        sedan   \n",
      "4                Audi 100ls      gas        std       four        sedan   \n",
      "\n",
      "  drivewheel enginelocation  wheelbase  carlength  carwidth  ...  stroke  \\\n",
      "0        rwd          front       88.6      168.8      64.1  ...    2.68   \n",
      "1        rwd          front       88.6      168.8      64.1  ...    2.68   \n",
      "2        rwd          front       94.5      171.2      65.5  ...    3.47   \n",
      "3        fwd          front       99.8      176.6      66.2  ...    3.40   \n",
      "4        4wd          front       99.4      176.6      66.4  ...    3.40   \n",
      "\n",
      "   compressionratio horsepower peakrpm  citympg highwaympg    price  \\\n",
      "0               9.0        111    5000       21         27  13495.0   \n",
      "1               9.0        111    5000       21         27  16500.0   \n",
      "2               9.0        154    5000       19         26  16500.0   \n",
      "3              10.0        102    5500       24         30  13950.0   \n",
      "4               8.0        115    5500       18         22  17450.0   \n",
      "\n",
      "         brand          name                   CarName  \n",
      "0  Alfa-Romero        giulia        Alfa-Romero giulia  \n",
      "1  Alfa-Romero       stelvio       Alfa-Romero stelvio  \n",
      "2  Alfa-Romero  Quadrifoglio  Alfa-Romero Quadrifoglio  \n",
      "3         Audi        100 ls               Audi 100 ls  \n",
      "4         Audi         100ls                Audi 100ls  \n",
      "\n",
      "[5 rows x 27 columns]\n",
      "                  brandname fueltype aspiration doornumber      carbody  \\\n",
      "0        Alfa-Romero giulia      gas        std        two  convertible   \n",
      "1       Alfa-Romero stelvio      gas        std        two  convertible   \n",
      "2  Alfa-Romero Quadrifoglio      gas        std        two    hatchback   \n",
      "3               Audi 100 ls      gas        std       four        sedan   \n",
      "4                Audi 100ls      gas        std       four        sedan   \n",
      "\n",
      "  drivewheel enginelocation  wheelbase  carlength  carwidth  ...  stroke  \\\n",
      "0        rwd          front       88.6      168.8      64.1  ...    2.68   \n",
      "1        rwd          front       88.6      168.8      64.1  ...    2.68   \n",
      "2        rwd          front       94.5      171.2      65.5  ...    3.47   \n",
      "3        fwd          front       99.8      176.6      66.2  ...    3.40   \n",
      "4        4wd          front       99.4      176.6      66.4  ...    3.40   \n",
      "\n",
      "   compressionratio horsepower peakrpm  citympg highwaympg    price  \\\n",
      "0               9.0        111    5000       21         27  13495.0   \n",
      "1               9.0        111    5000       21         27  16500.0   \n",
      "2               9.0        154    5000       19         26  16500.0   \n",
      "3              10.0        102    5500       24         30  13950.0   \n",
      "4               8.0        115    5500       18         22  17450.0   \n",
      "\n",
      "         brand          name                 brandname  \n",
      "0  Alfa-Romero        giulia        Alfa-Romero giulia  \n",
      "1  Alfa-Romero       stelvio       Alfa-Romero stelvio  \n",
      "2  Alfa-Romero  Quadrifoglio  Alfa-Romero Quadrifoglio  \n",
      "3         Audi        100 ls               Audi 100 ls  \n",
      "4         Audi         100ls                Audi 100ls  \n",
      "\n",
      "[5 rows x 27 columns]\n"
     ]
    }
   ],
   "source": [
    "# rename the CarName and the car_ID columns to brandname and carid\n",
    "print(cars.head())\n",
    "cars.rename(columns={'CarName': 'brandname', 'car_ID': 'carid'}, inplace=True)\n",
    "print(cars.head())\n"
   ]
  },
  {
   "cell_type": "code",
   "execution_count": 20,
   "metadata": {},
   "outputs": [],
   "source": [
    "# drop the carid and symbol columns\n",
    "cars.drop(columns=[col for col in ['carid', 'symboling'] if col in cars.columns], inplace=True)\n"
   ]
  },
  {
   "cell_type": "code",
   "execution_count": 13,
   "metadata": {},
   "outputs": [
    {
     "name": "stdout",
     "output_type": "stream",
     "text": [
      "                  brandname fueltype aspiration doornumber      carbody  \\\n",
      "0        Alfa-Romero giulia      gas        std        two  convertible   \n",
      "1       Alfa-Romero stelvio      gas        std        two  convertible   \n",
      "2  Alfa-Romero Quadrifoglio      gas        std        two    hatchback   \n",
      "3               Audi 100 ls      gas        std       four        sedan   \n",
      "4                Audi 100ls      gas        std       four        sedan   \n",
      "\n",
      "  drivewheel enginelocation  wheelbase  carlength  carwidth  ...  boreratio  \\\n",
      "0        rwd          front       88.6      168.8      64.1  ...       3.47   \n",
      "1        rwd          front       88.6      168.8      64.1  ...       3.47   \n",
      "2        rwd          front       94.5      171.2      65.5  ...       2.68   \n",
      "3        fwd          front       99.8      176.6      66.2  ...       3.19   \n",
      "4        4wd          front       99.4      176.6      66.4  ...       3.19   \n",
      "\n",
      "   stroke compressionratio horsepower  peakrpm citympg  highwaympg    price  \\\n",
      "0    2.68              9.0        111     5000      21          27  13495.0   \n",
      "1    2.68              9.0        111     5000      21          27  16500.0   \n",
      "2    3.47              9.0        154     5000      19          26  16500.0   \n",
      "3    3.40             10.0        102     5500      24          30  13950.0   \n",
      "4    3.40              8.0        115     5500      18          22  17450.0   \n",
      "\n",
      "         brand          name  \n",
      "0  Alfa-Romero        giulia  \n",
      "1  Alfa-Romero       stelvio  \n",
      "2  Alfa-Romero  Quadrifoglio  \n",
      "3         Audi        100 ls  \n",
      "4         Audi         100ls  \n",
      "\n",
      "[5 rows x 26 columns]\n"
     ]
    }
   ],
   "source": [
    "print(cars.head())"
   ]
  },
  {
   "cell_type": "code",
   "execution_count": null,
   "metadata": {},
   "outputs": [],
   "source": []
  },
  {
   "cell_type": "code",
   "execution_count": null,
   "metadata": {},
   "outputs": [],
   "source": []
  }
 ],
 "metadata": {
  "kernelspec": {
   "display_name": "Python 3 (ipykernel)",
   "language": "python",
   "name": "python3"
  },
  "language_info": {
   "codemirror_mode": {
    "name": "ipython",
    "version": 3
   },
   "file_extension": ".py",
   "mimetype": "text/x-python",
   "name": "python",
   "nbconvert_exporter": "python",
   "pygments_lexer": "ipython3",
   "version": "3.11.7"
  }
 },
 "nbformat": 4,
 "nbformat_minor": 4
}
